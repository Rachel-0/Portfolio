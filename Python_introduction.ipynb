{
 "cells": [
  {
   "cell_type": "markdown",
   "id": "d46dc988-d3af-422b-af67-4271b487c60c",
   "metadata": {},
   "source": [
    "# Introduction to python\n",
    "Demos and hands on examples includeing some errors to watch out for!"
   ]
  },
  {
   "cell_type": "code",
   "execution_count": null,
   "id": "51bf7e2f-8fcb-44e0-a108-b86c2d4ed085",
   "metadata": {},
   "outputs": [],
   "source": [
    "# Basic Python Syntax\n",
    "\n",
    "# Variables and Data Types\n",
    "name = 'Beyonce'\n",
    "age = 45\n",
    "print(f\"Hello, my name is {name} and I am {age} years old.\")"
   ]
  },
  {
   "cell_type": "code",
   "execution_count": null,
   "id": "b8c7b33a-06a9-4d0a-82df-92cb354e5a9b",
   "metadata": {},
   "outputs": [],
   "source": [
    "# Lists\n",
    "\n",
    "# List\n",
    "fruits = ['apple', 'banana', 'cherry']\n",
    "print(fruits)\n"
   ]
  },
  {
   "cell_type": "markdown",
   "id": "51d2454d-1922-4ee5-98c8-0abaaf04f084",
   "metadata": {},
   "source": [
    "## if statements"
   ]
  },
  {
   "cell_type": "code",
   "execution_count": null,
   "id": "fbf3dfd0-c2ac-45e1-b3a3-619cad633fe1",
   "metadata": {},
   "outputs": [],
   "source": [
    "pizza_max = 6\n",
    "\n",
    "if pizza_max > 5:\n",
    "    print(f'{pizza_max} slices is a lot, well done!')\n",
    "else:\n",
    "    print(f'You can only eat {pizza_max} slices? More for me then!')"
   ]
  },
  {
   "cell_type": "markdown",
   "id": "408839f9-62a7-4c67-8209-8fe5cbb8ec48",
   "metadata": {},
   "source": [
    "# Introduction to Pandas\n",
    "\n",
    "Pandas is a powerful Python library for data analysis. It provides two main data structures: Series and DataFrame. A Series is a one-dimensional array-like object, while a DataFrame is a two-dimensional table, similar to an Excel spreadsheet."
   ]
  },
  {
   "cell_type": "markdown",
   "id": "f1b81d0d-10ef-4ced-9221-bdc2bf73f24c",
   "metadata": {},
   "source": [
    "Here is a ['cheat sheet'](https://pandas.pydata.org/Pandas_Cheat_Sheet.pdf) for reference to a few different operations you can perform in pandas"
   ]
  },
  {
   "cell_type": "code",
   "execution_count": null,
   "id": "c1a6348b-e038-4c73-86df-30aa6f9610ad",
   "metadata": {},
   "outputs": [],
   "source": [
    "import pandas as pd\n",
    "\n",
    "# Creating a DataFrame from a dictionary\n",
    "data = {\n",
    "    'Name': ['John', 'Alice', 'Bob'],\n",
    "    'Age': [25, 30, 22],\n",
    "    'City': ['New York', 'Los Angeles', 'Chicago']\n",
    "}\n",
    "df = pd.DataFrame(data)"
   ]
  },
  {
   "cell_type": "code",
   "execution_count": null,
   "id": "2e029ffe-4bc9-46c9-9b34-966d5819489d",
   "metadata": {},
   "outputs": [],
   "source": [
    "# Viewing a few rows\n",
    "df.head()\n",
    "# or\n",
    "df.tail()"
   ]
  },
  {
   "cell_type": "code",
   "execution_count": null,
   "id": "55c02015-203d-4a4a-a65e-744d0febeef4",
   "metadata": {},
   "outputs": [],
   "source": [
    "# Filtering rows based on a condition\n",
    "df_young = df[df['Age'] < 30]\n",
    "\n",
    "df_young"
   ]
  },
  {
   "cell_type": "markdown",
   "id": "75113ce9-1ce7-4c5d-9123-31f5f70088b1",
   "metadata": {},
   "source": [
    "### a bit of cleaning"
   ]
  },
  {
   "cell_type": "code",
   "execution_count": null,
   "id": "f513b364-b01e-46eb-903a-6d7714c80abc",
   "metadata": {},
   "outputs": [],
   "source": [
    "# Adding a column with missing values\n",
    "df['Salary'] = [1000, None, 1500]\n",
    "df"
   ]
  },
  {
   "cell_type": "code",
   "execution_count": null,
   "id": "2a2b1e0a-9291-48d9-a04d-9a754fed6499",
   "metadata": {},
   "outputs": [],
   "source": [
    "# finding null values\n",
    "df['Salary'].isna().sum()"
   ]
  },
  {
   "cell_type": "code",
   "execution_count": null,
   "id": "779fdd7e-3b7a-4a7a-88ae-adbba932380b",
   "metadata": {},
   "outputs": [],
   "source": [
    "# make a copy of the dataframe\n",
    "df_copy = df.copy()\n",
    "df_copy_2 = df.copy()\n",
    "df_copy_3 = df.copy()"
   ]
  },
  {
   "cell_type": "code",
   "execution_count": null,
   "id": "ff424588-d108-46ba-a746-462a40f7412b",
   "metadata": {},
   "outputs": [],
   "source": [
    "# Filling missing values\n",
    "df['Salary'] = df['Salary'].fillna(df['Salary'].mean())\n",
    "df"
   ]
  },
  {
   "cell_type": "markdown",
   "id": "12c953e6-e376-436e-b78e-d346a96adadf",
   "metadata": {},
   "source": [
    "### *Challenge*\n",
    "- Can you adjust the code below so that the null value is changed to 0 instead of the mean?"
   ]
  },
  {
   "cell_type": "code",
   "execution_count": null,
   "id": "18727847-9d01-4b6c-a98d-b5a9efce8b04",
   "metadata": {},
   "outputs": [],
   "source": [
    "# Filling missing values\n",
    "df_copy['Salary'] = df_copy['Salary'].fillna(df_copy['Salary'].mean())\n",
    "df_copy"
   ]
  },
  {
   "cell_type": "markdown",
   "id": "fc6153c4-c5b6-41d3-a400-0f1bd8246d3c",
   "metadata": {},
   "source": [
    "\n",
    "### *Challenge*\n",
    "- Can you adjust the code so that the row with the null is dropped?\n",
    "\n",
    "you can use .dropna() and you don't need to specify the column for this"
   ]
  },
  {
   "cell_type": "code",
   "execution_count": null,
   "id": "ce1d2818-15e7-4b08-b629-8e12ab3a58da",
   "metadata": {},
   "outputs": [],
   "source": [
    "df_copy_2.dropna(inplace=True)\n",
    "df_copy_2"
   ]
  },
  {
   "cell_type": "code",
   "execution_count": null,
   "id": "81fbce1f-b664-494e-803a-18d0ded48669",
   "metadata": {},
   "outputs": [],
   "source": [
    "# Sorting\n",
    "df_sorted = df_copy_2.sort_values(by='Salary', ascending=True)\n",
    "print(df_sorted)"
   ]
  },
  {
   "cell_type": "markdown",
   "id": "578acdbe-e986-4f87-98b3-b83b2ebfba91",
   "metadata": {},
   "source": [
    "### *Challenge*\n",
    "- Can you sort the data into alphabetical order by Name?"
   ]
  },
  {
   "cell_type": "code",
   "execution_count": null,
   "id": "77a7e68a-0c6a-41d3-9636-504c68df70ae",
   "metadata": {},
   "outputs": [],
   "source": [
    "# Sorting\n",
    "df_sorted = \n",
    "print(df_sorted)"
   ]
  },
  {
   "cell_type": "code",
   "execution_count": null,
   "id": "dd1a6deb-883f-4c1d-9a89-f59aabd428f4",
   "metadata": {},
   "outputs": [],
   "source": [
    "# Data Visualization with Matplotlib/Seaborn\n",
    "\n",
    "import seaborn as sns\n",
    "import matplotlib.pyplot as plt\n",
    "\n",
    "# Create a bar chart using Seaborn\n",
    "sns.barplot(x='Name', y='Age', data=df_sorted, palette = 'Set3')\n",
    "\n",
    "# Set the title and labels\n",
    "plt.title('Age of Individuals')\n",
    "plt.xlabel('Name')\n",
    "plt.ylabel('Age (years)')\n",
    "plt.show()"
   ]
  },
  {
   "cell_type": "markdown",
   "id": "71baf5a5-eb35-46ca-8207-5a0ccd7e782e",
   "metadata": {},
   "source": [
    "### Strings"
   ]
  },
  {
   "cell_type": "code",
   "execution_count": 333,
   "id": "2b22262c-85b5-4e03-9f42-d486a270339f",
   "metadata": {},
   "outputs": [
    {
     "name": "stdout",
     "output_type": "stream",
     "text": [
      "Hello World\n",
      "Length of the string: 11\n",
      "HELLO WORLD\n",
      "Hello World\n"
     ]
    }
   ],
   "source": [
    "# Operations on Strings\n",
    "\n",
    "# Concatenation\n",
    "string1 = 'Hello'\n",
    "string2 = 'World'\n",
    "concatenated_string = string1 + ' ' + string2\n",
    "print(concatenated_string)\n",
    "\n",
    "# String Length\n",
    "length = len(concatenated_string)\n",
    "print(f'Length of the string: {length}')\n",
    "\n",
    "# String Methods\n",
    "upper_string = concatenated_string.lower()\n",
    "print(upper_string)\n",
    "\n",
    "lower_string = concatenated_string.title()\n",
    "print(lower_string)"
   ]
  },
  {
   "cell_type": "code",
   "execution_count": 339,
   "id": "03043fb3-6135-4ab1-9ac8-d3e9263d9da1",
   "metadata": {},
   "outputs": [],
   "source": [
    "poo = '   hi Amy  '"
   ]
  },
  {
   "cell_type": "code",
   "execution_count": 342,
   "id": "249cdba5-c13b-4e00-9658-484f990fb0d7",
   "metadata": {},
   "outputs": [
    {
     "data": {
      "text/plain": [
       "'hi Amy'"
      ]
     },
     "execution_count": 342,
     "metadata": {},
     "output_type": "execute_result"
    }
   ],
   "source": [
    "poo = poo.strip()\n",
    "poo"
   ]
  },
  {
   "cell_type": "code",
   "execution_count": null,
   "id": "5abffba6-629e-4d39-a874-f515b297b863",
   "metadata": {},
   "outputs": [],
   "source": []
  },
  {
   "cell_type": "markdown",
   "id": "bb0703f0-266a-44de-b313-67e3e7dc57fe",
   "metadata": {},
   "source": [
    "### Challenge: Using .replace()"
   ]
  },
  {
   "cell_type": "code",
   "execution_count": null,
   "id": "fd11f3c2-b360-4fbb-938b-a9c1a3b61a3c",
   "metadata": {},
   "outputs": [],
   "source": [
    "# Given the string below, replace the word 'apple' with your favourite drink print the result\n",
    "\n",
    "fruit_string = 'I love apple juice.'\n",
    "\n",
    "# Complete your code below\n",
    "\n",
    "my_fav = fruit_string.\n",
    "\n",
    "print(my_fav)\n",
    "\n"
   ]
  },
  {
   "cell_type": "markdown",
   "id": "3ab8af6c-f99d-47e6-b7c8-6727f5ece0e0",
   "metadata": {},
   "source": [
    "#### Let's now generate some more data to play with\n",
    "#### This is a variation on the dummy data used for the Employer Brand tracker"
   ]
  },
  {
   "cell_type": "code",
   "execution_count": null,
   "id": "c0452a63-f227-4e64-9e2b-e5b497088688",
   "metadata": {},
   "outputs": [],
   "source": [
    "\n",
    "########################## Run this cell and view the output #####################\n",
    "\n",
    "# This generates random data within a specified range for each column.\n",
    "\n",
    "import numpy as np\n",
    "from random import randint, choice\n",
    "from faker import Faker\n",
    "\n",
    "# Initialize Faker\n",
    "fake = Faker()\n",
    "\n",
    "# Define job families\n",
    "job_families = ['Engineering', 'Marketing', 'Sales', 'Human Resources', 'Finance', 'Product', 'Support']\n",
    "\n",
    "# Define quarters\n",
    "quarters = pd.date_range(start='2019-01-01', end='2022-12-31', freq='Q')\n",
    "\n",
    "# Define function to generate random data\n",
    "def generate_data():\n",
    "\n",
    "    # Create empty columns ready to fill\n",
    "    data = {\n",
    "        'quarter': [],\n",
    "        'job_family': [],\n",
    "        'ID': [],\n",
    "        'avg_applications': [],\n",
    "        'recruitment_spend': [],\n",
    "        'search_demand': [],\n",
    "        'offers_extended': [],\n",
    "        'cost_per_hire': [],\n",
    "        'time_to_hire': [],\n",
    "        'applications_per_post': [],\n",
    "        'talent_pool_registrations': [],\n",
    "        'attrition_rate': [],\n",
    "        'probation_pass_rate': [],\n",
    "        'avg_length_of_service': [],\n",
    "        'glassdoor_4star_reviews': [],\n",
    "        'avg_glassdoor_rating': [],\n",
    "        'eNPS_score': [],\n",
    "        'absenteeism_rate': [],\n",
    "        'referal_rate': []\n",
    "        \n",
    "    }\n",
    "\n",
    "    # Fill the columns with generated data\n",
    "    for quarter in quarters:\n",
    "        for job_family in job_families:\n",
    "            data['quarter'].append(quarter) # add the quarter being iterated over in the for loop\n",
    "            data['job_family'].append(job_family) # add the job family being iterated over in the for loop\n",
    "            data['ID'].append(randint(1050, 3200))\n",
    "            data['avg_applications'].append(randint(50, 200))\n",
    "            data['recruitment_spend'].append(randint(5000, 20000))\n",
    "            data['search_demand'].append(randint(0, 500))\n",
    "            data['offers_extended'].append(randint(1, 50))\n",
    "            data['cost_per_hire'].append(randint(1000, 5000))\n",
    "            data['time_to_hire'].append(randint(0, 90))\n",
    "            data['applications_per_post'].append(randint(1, 100))\n",
    "            data['talent_pool_registrations'].append(randint(1000, 5000))\n",
    "            data['attrition_rate'].append(np.random.uniform(0, 1))\n",
    "            data['probation_pass_rate'].append(np.random.uniform(0, 1))\n",
    "            data['avg_length_of_service'].append(randint(1, 10))\n",
    "            data['glassdoor_4star_reviews'].append(np.random.uniform(0, 1))\n",
    "            data['avg_glassdoor_rating'].append(np.random.uniform(1, 5))\n",
    "            data['eNPS_score'].append(randint(-100,100))\n",
    "            data['absenteeism_rate'].append(np.random.uniform(0,100))\n",
    "            data['referal_rate'].append(np.random.uniform(0,100))\n",
    "\n",
    "    return pd.DataFrame(data)\n",
    "\n",
    "# Generate data\n",
    "df = generate_data() # call the function above and assign it to 'df'\n",
    "\n",
    "office_locations = ['manchester', 'Manchester', 'London', 'London kings X', 'Bali', 'Madrid', 'remote']\n",
    "\n",
    "# Generate random office locations for each row in dataframe\n",
    "df['Office'] = np.random.choice(office_locations, size=len(df))\n",
    "\n",
    "# Get random sample of 10 rows\n",
    "random_rows = df.sample(10).index\n",
    "\n",
    "# Drop these rows from the original dataframe\n",
    "df = df.drop(random_rows)\n",
    "\n",
    "df['time_to_hire'] = df['time_to_hire'].astype(str)\n",
    "\n",
    "df['ID'] = df['ID'].astype(str)\n",
    "df['ID'] = df['ID'] +'0000'\n",
    "df['ID'] = df['ID'].astype(int)\n",
    "\n",
    "# export to .csv file in your folder with today's date\n",
    "# df.to_csv(f\"{path}EB_dummydata_{date.today()}.csv\", index=None)\n",
    "\n",
    "df.head() # display the first 5 rows of data"
   ]
  },
  {
   "cell_type": "markdown",
   "id": "4cdff996-7edc-4c78-8111-40626c3b321f",
   "metadata": {},
   "source": [
    "### Let's check the data type and the size of this new dataset "
   ]
  },
  {
   "cell_type": "code",
   "execution_count": null,
   "id": "c1a0f29e-d370-4f61-9f46-481047893d3d",
   "metadata": {},
   "outputs": [],
   "source": [
    "# Display the number of rows and columns\n",
    "\n",
    "df.shape"
   ]
  },
  {
   "cell_type": "code",
   "execution_count": null,
   "id": "78b411c0-735b-43e3-ae42-8c21d8c1eb4c",
   "metadata": {},
   "outputs": [],
   "source": [
    "# Display the data types of all columns\n",
    "\n",
    "df.dtypes\n",
    "\n",
    "# strings are shown as 'object'"
   ]
  },
  {
   "cell_type": "markdown",
   "id": "53c1557c-96d9-4c7c-b520-e6bcd0e5fa35",
   "metadata": {},
   "source": [
    "## A common error occurs when trying to perform an action on the wrong data type \n",
    "\n",
    "#### e.g., ..."
   ]
  },
  {
   "cell_type": "code",
   "execution_count": null,
   "id": "24e241aa-b4b8-4e43-96f8-f5a0545f4603",
   "metadata": {},
   "outputs": [],
   "source": [
    "# Remove all the trailing 0s from the end of each ID\n",
    "df['ID'].str.strip('0')"
   ]
  },
  {
   "cell_type": "markdown",
   "id": "b37eb16a-787b-4892-a16f-81597a8a76bf",
   "metadata": {},
   "source": [
    "#### We can solve this by changing the datatype"
   ]
  },
  {
   "cell_type": "code",
   "execution_count": null,
   "id": "666d7a6e-aef2-48e5-b72f-86b3a3fa80ec",
   "metadata": {},
   "outputs": [],
   "source": [
    "df['ID'] = df['ID'].astype(str)\n",
    "\n",
    "print(df['ID'].dtype)"
   ]
  },
  {
   "cell_type": "code",
   "execution_count": null,
   "id": "59b6843b-302b-4dcc-b6be-d669583dd567",
   "metadata": {},
   "outputs": [],
   "source": [
    "# It now works\n",
    "df['ID'].str.strip('0')"
   ]
  },
  {
   "cell_type": "markdown",
   "id": "6f8924ea-e5b1-4da2-8b7f-5de81c5bd8cf",
   "metadata": {},
   "source": [
    "# Groupby and value counts"
   ]
  },
  {
   "cell_type": "markdown",
   "id": "d0813b46-6dc2-4075-b977-201a2c6d6c3c",
   "metadata": {},
   "source": [
    "Both super useful. \n",
    "\n",
    "Value_counts is probably my #1 most used method. This shows the unique values and how many occurances of each. Very useful for quickly exploring what you have inside a column.\n",
    "\n",
    "Groupby aggregates data so you can get the mean or sum etc for distinct groups of the data"
   ]
  },
  {
   "cell_type": "code",
   "execution_count": null,
   "id": "56c81318-af26-4c25-bdb0-d13dc9c7acb8",
   "metadata": {},
   "outputs": [],
   "source": [
    "# first let's see which values we have in a column\n",
    "df['job_family'].unique()"
   ]
  },
  {
   "cell_type": "code",
   "execution_count": null,
   "id": "59f1a96d-7a83-42e8-9e1e-0f9ca5966232",
   "metadata": {},
   "outputs": [],
   "source": [
    "# and how many unique values there are (i.e., count distinct)\n",
    "df['job_family'].nunique()"
   ]
  },
  {
   "cell_type": "markdown",
   "id": "f1294ff4-b3a5-4e5a-965f-19d8feaf9cda",
   "metadata": {},
   "source": [
    "## Value_counts"
   ]
  },
  {
   "cell_type": "code",
   "execution_count": null,
   "id": "144cc173-7961-41fb-aff1-02557f80f3b5",
   "metadata": {},
   "outputs": [],
   "source": [
    "df['job_family'].value_counts()"
   ]
  },
  {
   "cell_type": "markdown",
   "id": "14547a58-d0f6-4f2d-a901-8405270bcfa4",
   "metadata": {},
   "source": [
    "## Challenge\n",
    "#### Write some code to find out how many unique office locations there are and how many rows we have for each office"
   ]
  },
  {
   "cell_type": "code",
   "execution_count": null,
   "id": "f7905a09-877b-4136-a668-2f7ed432fcaf",
   "metadata": {},
   "outputs": [],
   "source": [
    "\n",
    "\n"
   ]
  },
  {
   "cell_type": "markdown",
   "id": "d6ece9fb-fbda-40ea-b47d-64118a2588fa",
   "metadata": {},
   "source": [
    "#### OMG these strings are messier than Abbie on a night out!\n",
    "\n",
    "#### Let's clean them up a bit using the string methods we tried earlier."
   ]
  },
  {
   "cell_type": "code",
   "execution_count": null,
   "id": "bd99bc84-4821-43ba-841f-fff48ad7e339",
   "metadata": {},
   "outputs": [],
   "source": [
    "df['Office'] = \n",
    "\n",
    "\n",
    "\n",
    "\n"
   ]
  },
  {
   "cell_type": "markdown",
   "id": "3a03e693-d67e-44e6-b455-f6220762d690",
   "metadata": {},
   "source": [
    " Value counts can be used with multiple columns to see combinations\n",
    "\n",
    " Methods can be chained on to the end of one another such as here.\n",
    " This allows us to get value_counts, sort, and reset the index all in one go"
   ]
  },
  {
   "cell_type": "code",
   "execution_count": null,
   "id": "61493378-d5ee-4ea2-9eef-f2caab9663f3",
   "metadata": {
    "scrolled": true
   },
   "outputs": [],
   "source": [
    "values = df[['job_family', 'Office']].value_counts().sort_values(ascending = False).reset_index()\n",
    "values"
   ]
  },
  {
   "cell_type": "markdown",
   "id": "6cc68a3b-1c95-4970-a9de-4d8c9fdbd06a",
   "metadata": {},
   "source": [
    "## Let's dig deeper\n",
    "\n",
    "```\n",
    "  ,-.       _,---._ __  / \\\n",
    " /  )    .-'       `./ /   \\\n",
    "(  (   ,'            `/    /|\n",
    " \\  `-\"             \\'\\   / |\n",
    "  `.              ,  \\ \\ /  |\n",
    "   /`x          ,'-`----Y   |\n",
    "  (            ;        |   '\n",
    "  |  ,-.    ,-'         |  /\n",
    "  |  | (   |    DATA    | /\n",
    "  )  |  \\  `.___________|/\n",
    "  `--'   `--'\n",
    "```\n"
   ]
  },
  {
   "cell_type": "markdown",
   "id": "b486a79c-c860-431d-a77f-436f5f471393",
   "metadata": {},
   "source": [
    "### Groupby"
   ]
  },
  {
   "cell_type": "code",
   "execution_count": null,
   "id": "b40776bb-d3f3-4d10-8200-3c7791af2266",
   "metadata": {},
   "outputs": [],
   "source": [
    "# Demonstration of groupby function with Pandas\n",
    "\n",
    "# Group by Department and calculate the average salary\n",
    "df_groupby = df.groupby('job_family')['applications_per_post'].mean().reset_index()\n",
    "\n",
    "df_groupby"
   ]
  },
  {
   "cell_type": "markdown",
   "id": "7838eb12-56f7-49f5-a006-51d5b6648b92",
   "metadata": {},
   "source": [
    "## Challenge\n",
    "#### Use a groupby method to find the <i><b>sum</b></i> of time_to_hire for each job family\n",
    "#### * You may need to solve another issue to do this accurately mwahaha ^_^ "
   ]
  },
  {
   "cell_type": "code",
   "execution_count": null,
   "id": "ae3efc32-673a-4d29-8412-2cdc928e54be",
   "metadata": {},
   "outputs": [],
   "source": [
    "\n",
    "\n",
    "\n",
    "df_groupby = df.groupby('job_family')['time_to_hire'].sum()\n",
    "df_groupby\n"
   ]
  },
  {
   "cell_type": "markdown",
   "id": "8e19ae9e-1983-42b4-9618-ad2fa2ea6b94",
   "metadata": {},
   "source": [
    "### You can aggregate multiple columns by adding them as a list inside double square brackets [[...]]\n",
    "### You can group by multiple columns by adding these as a list inside square brackets.\n",
    "\n",
    "####  - Change some column names below to test"
   ]
  },
  {
   "cell_type": "code",
   "execution_count": null,
   "id": "0b5eeb93-ad2a-41bf-a4b4-8cfc5940e37e",
   "metadata": {
    "scrolled": true
   },
   "outputs": [],
   "source": [
    "df_groupby = df.groupby(['job_family', 'Office'])[['applications_per_post',\n",
    "                                                    'avg_length_of_service']].mean().reset_index()\n",
    "df_groupby"
   ]
  },
  {
   "cell_type": "markdown",
   "id": "355cd2cb-671e-4196-b32a-a041901f675f",
   "metadata": {},
   "source": [
    "### If you want the *mean* applications and the *sum* of another column you can do so like this..."
   ]
  },
  {
   "cell_type": "code",
   "execution_count": null,
   "id": "f1b97914-1524-4efb-8edb-85adf145e908",
   "metadata": {},
   "outputs": [],
   "source": [
    "df_groupby = df.groupby(['Office']).agg({'applications_per_post' : 'mean',\n",
    "                                                    'avg_length_of_service' : 'sum'}).reset_index()\n",
    "df_groupby"
   ]
  },
  {
   "cell_type": "markdown",
   "id": "a78b6b49-97b1-4a4b-b63d-027e74dae83f",
   "metadata": {},
   "source": [
    "## Visualisations"
   ]
  },
  {
   "cell_type": "markdown",
   "id": "7c1ca2bd-506b-4b1d-b110-55bdbadcc39d",
   "metadata": {},
   "source": [
    "#### You can adjust the parameters or add more.\n",
    "#### Click somewhere on the name of the function e.g., histplot and then hold shift and tab to see the docstring for options"
   ]
  },
  {
   "cell_type": "code",
   "execution_count": null,
   "id": "3bb9b479-b7c3-4c86-bb08-5eb1052e1153",
   "metadata": {},
   "outputs": [],
   "source": [
    "# Demonstration of Seaborn Histogram\n",
    "\n",
    "import pandas as pd\n",
    "import seaborn as sns\n",
    "import matplotlib.pyplot as plt\n",
    "\n",
    "# Plot histogram using Seaborn\n",
    "sns.histplot(df['avg_length_of_service'],\n",
    "             bins='auto',\n",
    "             kde=True)\n",
    "\n",
    "plt.title('A very unimaginitive title \\n Do you feel inspired?', fontsize = 16)\n",
    "plt.xlabel('Length of Sevice (avg)')\n",
    "plt.ylabel('Frequency')\n",
    "plt.show()"
   ]
  },
  {
   "cell_type": "code",
   "execution_count": null,
   "id": "a5f8fdd4-2f25-4e7b-a0a9-78d3f23f8453",
   "metadata": {},
   "outputs": [],
   "source": [
    "plt.figure(figsize=(10, 6))\n",
    "sns.scatterplot(data=df, x='eNPS_score',\n",
    "                y='avg_glassdoor_rating',\n",
    "                hue='Office',\n",
    "                size = 'applications_per_post',\n",
    "               style = 'job_family',\n",
    "               alpha = .8)\n",
    "\n",
    "plt.title('Scatterplot showing a bunch of variables')\n",
    "\n",
    "# Move the legend\n",
    "plt.legend(loc='upper left', bbox_to_anchor=(1, 1))\n",
    "\n",
    "plt.show()\n"
   ]
  },
  {
   "cell_type": "code",
   "execution_count": null,
   "id": "bf0fbf8a-23c1-4a18-b34b-0fe6080cccde",
   "metadata": {},
   "outputs": [],
   "source": []
  },
  {
   "cell_type": "markdown",
   "id": "2bc4b93b-2db2-49e4-84fc-800abc448caa",
   "metadata": {},
   "source": [
    "### We can assign a colormap"
   ]
  },
  {
   "cell_type": "code",
   "execution_count": 332,
   "id": "f60ec7bb-5b9a-4133-9058-4af8c3e3c330",
   "metadata": {},
   "outputs": [
    {
     "data": {
      "image/png": "[encoded data removed]",
      "text/plain": [
       "<Figure size 1000x600 with 1 Axes>"
      ]
     },
     "metadata": {},
     "output_type": "display_data"
    }
   ],
   "source": [
    "fig, ax = plt.subplots(figsize=(10, 6))\n",
    "\n",
    "# We can define the order here by using groupby and sort. \n",
    "# You can take a look at order_by_avg_cost in another cell to see what \n",
    "# is being passed into the barplot function parameters.\n",
    "order_by_avg_cost = df.groupby('job_family')['cost_per_hire'].mean().sort_values().index\n",
    "\n",
    "# Create a colormap\n",
    "cmap = sns.color_palette(\"spring\", as_cmap=True)\n",
    "# Map 'cost_per_hire' values to colors\n",
    "colors = cmap(df['cost_per_hire'] / df['cost_per_hire'].max())\n",
    "\n",
    "# Plotting the barplot\n",
    "sns.barplot(data = df,\n",
    "            x = 'cost_per_hire',\n",
    "            y='job_family',\n",
    "            palette=colors,\n",
    "            orient='h',\n",
    "            ax=ax,\n",
    "            order = order_by_avg_cost\n",
    "           )\n",
    "\n",
    "ax.set_title('Barchart of Job Family and Cost Per Hire')\n",
    "\n",
    "# Adding the colorbar as the legend\n",
    "# cbar = plt.colorbar(plt.cm.ScalarMappable(cmap=cmap), orientation='vertical', ax=ax)\n",
    "# cbar.set_label('Cost Per Hire')\n",
    "\n",
    "plt.show()\n"
   ]
  },
  {
   "cell_type": "markdown",
   "id": "638ce14a-603f-4ca2-920a-f781b115b4c9",
   "metadata": {},
   "source": [
    "```\n",
    "       ___________\n",
    "      |.---------.|\n",
    "      ||   u r   ||\n",
    "      ||  doing  ||\n",
    "      ||  great  ||\n",
    "      |'---------'|\n",
    "       `)__ ____('\n",
    "       [=== -- o ]--.\n",
    "     __'---------'__ \\\n",
    "    [::::::::::: :::] )\n",
    "     `\"\"'\"\"\"\"\"'\"\"\"\"`/T\\\n",
    "                    \\_/\n",
    "```"
   ]
  },
  {
   "cell_type": "markdown",
   "id": "91a76db4-00d9-49dc-9a61-bd1a371ee985",
   "metadata": {},
   "source": [
    "### To create a correlation matrix with heatmap ...\n",
    "\n",
    "You can treat this like 'boiler plate code' to use again in the future. Sharing is caring."
   ]
  },
  {
   "cell_type": "code",
   "execution_count": null,
   "id": "a751d30e-8e0f-447b-8e56-a192072c1701",
   "metadata": {},
   "outputs": [],
   "source": [
    "# # Compute the correlation matrix\n",
    "from matplotlib.colors import LinearSegmentedColormap, TwoSlopeNorm\n",
    "\n",
    "# select only the numeric columns\n",
    "numeric_cols = df.select_dtypes(include=['number']).columns\n",
    "data = df[numeric_cols]\n",
    "\n",
    "# perform the correlations\n",
    "corr = data.corr()\n",
    "\n",
    "# Generate a mask for the upper triangle\n",
    "mask = np.triu(np.ones_like(corr, dtype=bool))\n",
    "\n",
    "# Set up the matplotlib figure\n",
    "f, ax = plt.subplots(figsize=(11, 9))\n",
    "\n",
    "# Define your colors\n",
    "colors = [ '#ffffff','#3babac','#1f1f1f' ]\n",
    "# Create a colormap\n",
    "cmap = LinearSegmentedColormap.from_list('mycmap', colors)\n",
    "\n",
    "# # Define the range of your colormap\n",
    "vmin = corr.min().min()  # Minimum correlation\n",
    "vmax = corr.max().max()  # Maximum correlation\n",
    "midpoint = corr.mean().mean()  # Mean correlation\n",
    "\n",
    "# Create the colormap norm object\n",
    "norm = TwoSlopeNorm(vmin=vmin, vcenter=midpoint, vmax=vmax)\n",
    "\n",
    "# Draw the heatmap with the mask and custom aspect ratio\n",
    "sns.heatmap(corr,\n",
    "            mask=mask,\n",
    "            cmap=cmap,\n",
    "            norm=norm,\n",
    "            square=True,\n",
    "            linewidths=.5,\n",
    "            cbar_kws={\"shrink\": .5},\n",
    "            annot = True, # annotate the heatmap with the r value of the correlation\n",
    "            fmt='.2f') # show only 2 demical places\n",
    "\n",
    "\n",
    "ax.set_title(\"Correlation Matrix \\n Employer Brand\")\n",
    "\n",
    "# plt.savefig('Correlation_matrix.png', dpi=300, bbox_inches = \"tight\")\n",
    "\n",
    "plt.show()"
   ]
  },
  {
   "cell_type": "code",
   "execution_count": null,
   "id": "e371bad9-44d9-442b-b25d-9168ab984c6f",
   "metadata": {},
   "outputs": [],
   "source": []
  },
  {
   "cell_type": "code",
   "execution_count": null,
   "id": "79be1539-22a6-4783-b3f0-38e664d47094",
   "metadata": {},
   "outputs": [],
   "source": []
  },
  {
   "cell_type": "code",
   "execution_count": null,
   "id": "6033fb70-b976-43ad-bf22-b0bd46936929",
   "metadata": {},
   "outputs": [],
   "source": []
  },
  {
   "cell_type": "code",
   "execution_count": null,
   "id": "468d49d5-b245-4c71-94df-2aaa3d223234",
   "metadata": {},
   "outputs": [],
   "source": []
  },
  {
   "cell_type": "code",
   "execution_count": null,
   "id": "bc82999c-eab2-4432-85c2-1ac1c433c3ed",
   "metadata": {},
   "outputs": [],
   "source": []
  },
  {
   "cell_type": "code",
   "execution_count": null,
   "id": "34512961-08c1-4232-b846-892d81ee6865",
   "metadata": {},
   "outputs": [],
   "source": []
  },
  {
   "cell_type": "code",
   "execution_count": 343,
   "id": "32050978-5a93-40e5-944e-8bfbbcafccff",
   "metadata": {},
   "outputs": [
    {
     "name": "stdout",
     "output_type": "stream",
     "text": [
      "Iteration 1: Counter value is 1\n",
      "Iteration 2: Counter value is 2\n",
      "Iteration 3: Counter value is 3\n",
      "Iteration 4: Counter value is 4\n",
      "Iteration 5: Counter value is 5\n"
     ]
    }
   ],
   "source": [
    "# Demonstration of a Simple Counter For Loop\n",
    "\n",
    "# Initialize counter\n",
    "counter = 0\n",
    "\n",
    "# For loop to increment counter 5 times\n",
    "for i in range(5):\n",
    "    counter += 1\n",
    "    print(f'Iteration {i+1}: Counter value is {counter}')"
   ]
  },
  {
   "cell_type": "code",
   "execution_count": null,
   "id": "6554e579-71d9-4289-98d4-85866c213b36",
   "metadata": {},
   "outputs": [],
   "source": []
  },
  {
   "cell_type": "code",
   "execution_count": null,
   "id": "a0bdc524-b678-4695-8a71-eb36e681424a",
   "metadata": {},
   "outputs": [],
   "source": []
  },
  {
   "cell_type": "code",
   "execution_count": null,
   "id": "2ca82730-c57e-4ce4-925c-00ff4378072e",
   "metadata": {},
   "outputs": [],
   "source": []
  }
 ],
 "metadata": {
  "kernelspec": {
   "display_name": "Python 3 (ipykernel)",
   "language": "python",
   "name": "python3"
  },
  "language_info": {
   "codemirror_mode": {
    "name": "ipython",
    "version": 3
   },
   "file_extension": ".py",
   "mimetype": "text/x-python",
   "name": "python",
   "nbconvert_exporter": "python",
   "pygments_lexer": "ipython3",
   "version": "3.9.13"
  }
 },
 "nbformat": 4,
 "nbformat_minor": 5
}
