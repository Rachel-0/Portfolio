{
 "cells": [
  {
   "cell_type": "markdown",
   "id": "de7c41f6",
   "metadata": {},
   "source": [
    "# Interactive t test demonstration"
   ]
  },
  {
   "cell_type": "markdown",
   "id": "18dcbf5e",
   "metadata": {},
   "source": [
    "Run all of the following cells to see a histogram plot. Each colour on the histogram represents a different group since we are using an independant samples t test. Let's pretend these groups are people who cycle to work and people who use a train. The dependant variable could be mood on arrival (positive-negative).\n",
    "\n",
    "Play with the sliders to change the parameters of sample size, mean difference and variance. These are the core components we use to decide if there is a significant difference between two groups. Notice how dinstinguishable the two groups are on the histogram as well as the p value.\n",
    "\n",
    "We can be more confident that there is a difference between groups when the sample size is greater, and the differences between people within each group (within group variance) is relatively low compared with the difference between each group (the mean difference). In performing the statistical test, we are trying to estimate how much of the overall variance in the sample (differences in mood measured) is due to the different groups, and how much is due to all other factors such as random noise, measurement error or variables that we didn't include in the analysis.\n",
    "\n",
    "You have now built an intuitive understanding of statistical testing which can be applied to other more complex scenarios. Consider for example, how these parameters affect tests with 3 groups or additional variables. \n",
    "\n",
    "Stay tuned for upcoming demonstrations of other statistics including ANOVA, regression and clustering analyis. We will also explore how statistical assumptions affect tests e.g., homogeniety of variance, imbalanced samples, non-normal distributions."
   ]
  },
  {
   "cell_type": "code",
   "execution_count": 10,
   "id": "20231294-920c-4a0d-98fe-f5f1307111bf",
   "metadata": {},
   "outputs": [
    {
     "data": {
      "application/vnd.jupyter.widget-view+json": {
       "model_id": "caed249f1b8b456a8a2e204ab7f78a10",
       "version_major": 2,
       "version_minor": 0
      },
      "text/plain": [
       "interactive(children=(FloatSlider(value=2.0, description='Mean Diff:', max=5.0), FloatSlider(value=1.0, descri…"
      ]
     },
     "execution_count": 10,
     "metadata": {},
     "output_type": "execute_result"
    }
   ],
   "source": [
    "import numpy as np\n",
    "import matplotlib.pyplot as plt\n",
    "from scipy.stats import ttest_ind\n",
    "import ipywidgets as widgets\n",
    "from IPython.display import display\n",
    "\n",
    "def generate_data(mean_diff=0, within_group_var=1, n=100):\n",
    "    \"\"\"\n",
    "    Generate two groups of data with specified mean difference and within-group variance.\n",
    "\n",
    "    Parameters:\n",
    "    - mean_diff: Difference in means between the two groups.\n",
    "    - within_group_var: Variance within each group.\n",
    "    - n: Number of data points in each group.\n",
    "\n",
    "    Returns:\n",
    "    - group1, group2: Two numpy arrays containing the data for the two groups.\n",
    "    \"\"\"\n",
    "    group1 = np.random.normal(0, np.sqrt(within_group_var), n)\n",
    "    group2 = np.random.normal(mean_diff, np.sqrt(within_group_var), n)\n",
    "    return group1, group2\n",
    "\n",
    "def generate_data(mean_diff=0, within_group_var=1, n=100):\n",
    "    \"\"\"\n",
    "    Generate two groups of data with specified mean difference and within-group variance.\n",
    "\n",
    "    Parameters:\n",
    "    - mean_diff: Difference in means between the two groups.\n",
    "    - within_group_var: Variance within each group.\n",
    "    - n: Number of data points in each group.\n",
    "\n",
    "    Returns:\n",
    "    - group1, group2: Two numpy arrays containing the data for the two groups.\n",
    "    \"\"\"\n",
    "    group1 = np.random.normal(0, np.sqrt(within_group_var), n)\n",
    "    group2 = np.random.normal(mean_diff, np.sqrt(within_group_var), n)\n",
    "    return group1, group2\n",
    "def plot_and_compute_p(mean_diff, within_group_var, n):\n",
    "    # Generate data\n",
    "    group1, group2 = generate_data(mean_diff, within_group_var, n)\n",
    "\n",
    "    # Perform t-test\n",
    "    _, p_value = ttest_ind(group1, group2)\n",
    "\n",
    "    # Plot\n",
    "    plt.figure(figsize=(10, 6))\n",
    "    plt.hist(group1, bins=30, alpha=0.5, label='Group 1 (train)')\n",
    "    plt.hist(group2, bins=30, alpha=0.5, label='Group 2 (cycle)')\n",
    "    plt.legend()\n",
    "    plt.title(f'Distribution of Two Groups with Mean Difference of {mean_diff} and p-value: {p_value:.3f}')\n",
    "    plt.xlabel('Value (mood)')\n",
    "    plt.ylabel('Frequency')\n",
    "    plt.show()\n",
    "\n",
    "# Create interactive widgets\n",
    "mean_diff_slider = widgets.FloatSlider(value=2, min=0, max=5, step=0.1, description='Mean Diff:')\n",
    "within_group_var_slider = widgets.FloatSlider(value=1, min=0.1, max=5, step=0.1, description='Var:')\n",
    "sample_size_slider = widgets.IntSlider(value=100, min=10, max=500, step=10, description='Sample Size:')\n",
    "\n",
    "widgets.interactive(plot_and_compute_p, mean_diff=mean_diff_slider, within_group_var=within_group_var_slider, n=sample_size_slider)"
   ]
  },
  {
   "cell_type": "code",
   "execution_count": null,
   "id": "a8c1df08-6fb6-4cfd-8cfb-629e66e62edd",
   "metadata": {},
   "outputs": [],
   "source": []
  }
 ],
 "metadata": {
  "kernelspec": {
   "display_name": "Python 3 (ipykernel)",
   "language": "python",
   "name": "python3"
  },
  "language_info": {
   "codemirror_mode": {
    "name": "ipython",
    "version": 3
   },
   "file_extension": ".py",
   "mimetype": "text/x-python",
   "name": "python",
   "nbconvert_exporter": "python",
   "pygments_lexer": "ipython3",
   "version": "3.9.18"
  }
 },
 "nbformat": 4,
 "nbformat_minor": 5
}
