{
 "cells": [
  {
   "cell_type": "markdown",
   "id": "de7c41f6",
   "metadata": {},
   "source": [
    "# Interactive t test demonstration"
   ]
  },
  {
   "cell_type": "markdown",
   "id": "18dcbf5e",
   "metadata": {},
   "source": [
    "Run the following cell to see a histogram plot. Each colour on the histogram represents a different group since we are using an independant samples t test. Let's pretend these groups are people who cycle to work and people who use a train. The dependant variable could be mood on arrival (positive-negative).\n",
    "\n",
    "\n",
    "Play with the sliders to change the parameters of sample size, mean difference and within-group variance. These are the core components we use to decide if there is a significant difference between two groups. Notice how dinstinguishable the two groups are on the histogram as well as the p value.\n",
    "\n",
    "\n",
    "We can be more **confident** that there is a difference between groups when the sample size is greater, and the differences between people within each group (within group variance) is relatively low compared with the difference between each group (the mean difference). In performing the statistical test, we are trying to estimate how much of the overall variance in the sample (differences in mood measured) is due to the different groups, and how much is due to all other factors such as random noise, measurement error or variables that we didn't include in the analysis.\n",
    "\n",
    "### Go ahead and play!"
   ]
  },
  {
   "cell_type": "code",
   "execution_count": 32,
   "id": "20231294-920c-4a0d-98fe-f5f1307111bf",
   "metadata": {},
   "outputs": [
    {
     "data": {
      "application/vnd.jupyter.widget-view+json": {
       "model_id": "061e34b70dcb44488f93da1e3159d05c",
       "version_major": 2,
       "version_minor": 0
      },
      "text/plain": [
       "VBox(children=(FloatSlider(value=2.0, description='Mean Difference:', layout=Layout(display='flex', justify_co…"
      ]
     },
     "metadata": {},
     "output_type": "display_data"
    },
    {
     "data": {
      "application/vnd.jupyter.widget-view+json": {
       "model_id": "664b27d7cb8f471685ab0b47fcdd4157",
       "version_major": 2,
       "version_minor": 0
      },
      "text/plain": [
       "Output()"
      ]
     },
     "metadata": {},
     "output_type": "display_data"
    }
   ],
   "source": [
    "import numpy as np\n",
    "import matplotlib.pyplot as plt\n",
    "from scipy.stats import ttest_ind\n",
    "import ipywidgets as widgets\n",
    "from IPython.display import display\n",
    "\n",
    "def generate_data(mean_diff=0, within_group_var=1, n=100):\n",
    "    \"\"\"\n",
    "    Generate two groups of data with specified mean difference and within-group variance.\n",
    "\n",
    "    Parameters:\n",
    "    - mean_diff: Difference in means between the two groups.\n",
    "    - within_group_var: Variance within each group.\n",
    "    - n: Number of data points in each group.\n",
    "\n",
    "    Returns:\n",
    "    - group1, group2: Two numpy arrays containing the data for the two groups.\n",
    "    \"\"\"\n",
    "    group1 = np.random.normal(0, np.sqrt(within_group_var), n)\n",
    "    group2 = np.random.normal(mean_diff, np.sqrt(within_group_var), n)\n",
    "    return group1, group2\n",
    "\n",
    "def generate_data(mean_diff=0, within_group_var=1, n=100):\n",
    "    \"\"\"\n",
    "    Generate two groups of data with specified mean difference and within-group variance.\n",
    "\n",
    "    Parameters:\n",
    "    - mean_diff: Difference in means between the two groups.\n",
    "    - within_group_var: Variance within each group.\n",
    "    - n: Number of data points in each group.\n",
    "\n",
    "    Returns:\n",
    "    - group1, group2: Two numpy arrays containing the data for the two groups.\n",
    "    \"\"\"\n",
    "    group1 = np.random.normal(0, np.sqrt(within_group_var), n)\n",
    "    group2 = np.random.normal(mean_diff, np.sqrt(within_group_var), n)\n",
    "    return group1, group2\n",
    "def plot_and_compute_p(mean_diff, within_group_var, n):\n",
    "    # Generate data\n",
    "    group1, group2 = generate_data(mean_diff, within_group_var, n)\n",
    "\n",
    "    # Perform t-test\n",
    "    _, p_value = ttest_ind(group1, group2)\n",
    "    \n",
    "    # Determine text color based on p-value\n",
    "    p_color = 'green' if p_value < 0.05 else 'black'\n",
    "\n",
    "    # Plot\n",
    "    plt.figure(figsize=(10, 6))\n",
    "    plt.hist(group1, bins=30, alpha=0.5, label='Group 1 (train)')\n",
    "    plt.hist(group2, bins=30, alpha=0.5, label='Group 2 (cycle)')\n",
    "    plt.legend()\n",
    "    plt.title(f'Distribution of Two Groups with Mean Difference of {mean_diff} \\n and sample size {n}', fontsize=14)\n",
    "    # Add p-value in different color\n",
    "    plt.text(0.05, 0.95, f'p-value: {p_value:.3f}', horizontalalignment='left', verticalalignment='top', transform=plt.gca().transAxes, color=p_color, fontsize=14)\n",
    "    # plt.title(f'Distribution of Two Groups with Mean Difference of {mean_diff} and p-value: {p_value:.3f}')\n",
    "    plt.xlabel('Value (mood)')\n",
    "    plt.ylabel('Frequency')\n",
    "    plt.show()\n",
    "\n",
    "# Create interactive widgets\n",
    "\n",
    "# Widget layout configuration\n",
    "layout = widgets.Layout(width='500px', display='flex', justify_content='center')  # Adjust 'width' as needed\n",
    "\n",
    "mean_diff_slider = widgets.FloatSlider(value=2, min=0, max=5, step=0.1, description='Mean Difference:', layout=layout)\n",
    "within_group_var_slider = widgets.FloatSlider(value=1, min=0.1, max=5, step=0.1, description='Variance:', layout=layout)\n",
    "sample_size_slider = widgets.IntSlider(value=100, min=10, max=500, step=10, description='Sample Size:', layout=layout)\n",
    "\n",
    "# Stack widgets vertically and center\n",
    "ui = widgets.VBox([mean_diff_slider, within_group_var_slider, sample_size_slider], layout=widgets.Layout(display='flex', flex_flow='column', align_items='center', width='100%'))\n",
    "out = widgets.interactive_output(plot_and_compute_p, {'mean_diff': mean_diff_slider, 'within_group_var': within_group_var_slider, 'n': sample_size_slider})\n",
    "\n",
    "display(ui, out)\n",
    "\n",
    "# mean_diff_slider = widgets.FloatSlider(value=2, min=0, max=5, step=0.1, description='Mean Difference between groups:')\n",
    "# within_group_var_slider = widgets.FloatSlider(value=1, min=0.1, max=5, step=0.1, description='Variance within groups:')\n",
    "# sample_size_slider = widgets.IntSlider(value=100, min=10, max=500, step=10, description='Sample Size:')\n",
    "\n",
    "# widgets.interactive(plot_and_compute_p, mean_diff=mean_diff_slider, within_group_var=within_group_var_slider, n=sample_size_slider)"
   ]
  },
  {
   "cell_type": "markdown",
   "id": "760453af",
   "metadata": {},
   "source": [
    "You have now built an intuitive understanding of statistical testing which can be applied to other more complex scenarios. Consider how these parameters affect tests with 3 groups or additional variables, such as rainy days for this example. \n",
    "\n",
    "Stay tuned for upcoming demonstrations of other statistics including ANOVA, regression and clustering analyis. We will also explore how statistical assumptions affect tests e.g., homogeniety of variance, imbalanced samples, non-normal distributions."
   ]
  }
 ],
 "metadata": {
  "kernelspec": {
   "display_name": "Python 3 (ipykernel)",
   "language": "python",
   "name": "python3"
  },
  "language_info": {
   "codemirror_mode": {
    "name": "ipython",
    "version": 3
   },
   "file_extension": ".py",
   "mimetype": "text/x-python",
   "name": "python",
   "nbconvert_exporter": "python",
   "pygments_lexer": "ipython3",
   "version": "3.9.18"
  }
 },
 "nbformat": 4,
 "nbformat_minor": 5
}
