{
 "cells": [
  {
   "cell_type": "code",
   "execution_count": null,
   "id": "e4177ac4-b44f-403f-90cb-bf4aa154fb8a",
   "metadata": {},
   "outputs": [],
   "source": []
  },
  {
   "cell_type": "code",
   "execution_count": 9,
   "id": "b586757c-329b-457c-b761-d3775117b697",
   "metadata": {},
   "outputs": [],
   "source": [
    "import numpy as np\n",
    "import matplotlib.pyplot as plt\n",
    "from scipy.stats import ttest_ind\n",
    "\n",
    "def generate_data(mean_diff=0, within_group_var=1, n=100):\n",
    "    \"\"\"\n",
    "    Generate two groups of data with specified mean difference and within-group variance.\n",
    "\n",
    "    Parameters:\n",
    "    - mean_diff: Difference in means between the two groups.\n",
    "    - within_group_var: Variance within each group.\n",
    "    - n: Number of data points in each group.\n",
    "\n",
    "    Returns:\n",
    "    - group1, group2: Two numpy arrays containing the data for the two groups.\n",
    "    \"\"\"\n",
    "    group1 = np.random.normal(0, np.sqrt(within_group_var), n)\n",
    "    group2 = np.random.normal(mean_diff, np.sqrt(within_group_var), n)\n",
    "    return group1, group2"
   ]
  },
  {
   "cell_type": "code",
   "execution_count": 10,
   "id": "20231294-920c-4a0d-98fe-f5f1307111bf",
   "metadata": {},
   "outputs": [
    {
     "data": {
      "application/vnd.jupyter.widget-view+json": {
       "model_id": "a839da8220454260bd7f03308ade232f",
       "version_major": 2,
       "version_minor": 0
      },
      "text/plain": [
       "interactive(children=(FloatSlider(value=2.0, description='Mean Diff:', max=5.0), FloatSlider(value=1.0, descri…"
      ]
     },
     "metadata": {},
     "output_type": "display_data"
    }
   ],
   "source": [
    "import ipywidgets as widgets\n",
    "from IPython.display import display\n",
    "import numpy as np\n",
    "import matplotlib.pyplot as plt\n",
    "from scipy.stats import ttest_ind\n",
    "\n",
    "def generate_data(mean_diff=0, within_group_var=1, n=100):\n",
    "    \"\"\"\n",
    "    Generate two groups of data with specified mean difference and within-group variance.\n",
    "\n",
    "    Parameters:\n",
    "    - mean_diff: Difference in means between the two groups.\n",
    "    - within_group_var: Variance within each group.\n",
    "    - n: Number of data points in each group.\n",
    "\n",
    "    Returns:\n",
    "    - group1, group2: Two numpy arrays containing the data for the two groups.\n",
    "    \"\"\"\n",
    "    group1 = np.random.normal(0, np.sqrt(within_group_var), n)\n",
    "    group2 = np.random.normal(mean_diff, np.sqrt(within_group_var), n)\n",
    "    return group1, group2\n",
    "def plot_and_compute_p(mean_diff, within_group_var, n):\n",
    "    # Generate data\n",
    "    group1, group2 = generate_data(mean_diff, within_group_var, n)\n",
    "\n",
    "    # Perform t-test\n",
    "    _, p_value = ttest_ind(group1, group2)\n",
    "\n",
    "    # Plot\n",
    "    plt.figure(figsize=(10, 6))\n",
    "    plt.hist(group1, bins=30, alpha=0.5, label='Group 1')\n",
    "    plt.hist(group2, bins=30, alpha=0.5, label='Group 2')\n",
    "    plt.legend()\n",
    "    plt.title(f'Distribution of Two Groups with Mean Difference of {mean_diff} and p-value: {p_value:.2e}')\n",
    "    plt.xlabel('Value')\n",
    "    plt.ylabel('Frequency')\n",
    "    plt.show()\n",
    "\n",
    "# Create interactive widgets\n",
    "mean_diff_slider = widgets.FloatSlider(value=2, min=0, max=5, step=0.1, description='Mean Diff:')\n",
    "within_group_var_slider = widgets.FloatSlider(value=1, min=0.1, max=5, step=0.1, description='Var:')\n",
    "sample_size_slider = widgets.IntSlider(value=100, min=10, max=500, step=10, description='Sample Size:')\n",
    "\n",
    "widgets.interactive(plot_and_compute_p, mean_diff=mean_diff_slider, within_group_var=within_group_var_slider, n=sample_size_slider)"
   ]
  },
  {
   "cell_type": "code",
   "execution_count": 5,
   "id": "83e45d94-a046-410a-a31e-e03f463d91e1",
   "metadata": {},
   "outputs": [
    {
     "ename": "NameError",
     "evalue": "name 'install' is not defined",
     "output_type": "error",
     "traceback": [
      "\u001b[0;31m---------------------------------------------------------------------------\u001b[0m",
      "\u001b[0;31mNameError\u001b[0m                                 Traceback (most recent call last)",
      "\u001b[0;32m/var/folders/ym/3r2zdm5532dg5b2gh80_6pbr0000gr/T/ipykernel_66953/3926376058.py\u001b[0m in \u001b[0;36m<module>\u001b[0;34m\u001b[0m\n\u001b[0;32m----> 1\u001b[0;31m \u001b[0minstall\u001b[0m \u001b[0;34m@\u001b[0m\u001b[0mjupyter\u001b[0m\u001b[0;34m-\u001b[0m\u001b[0mwidgets\u001b[0m\u001b[0;34m/\u001b[0m\u001b[0mjupyterlab\u001b[0m\u001b[0;34m-\u001b[0m\u001b[0mmanager\u001b[0m\u001b[0;34m\u001b[0m\u001b[0;34m\u001b[0m\u001b[0m\n\u001b[0m",
      "\u001b[0;31mNameError\u001b[0m: name 'install' is not defined"
     ]
    }
   ],
   "source": [
    "install @jupyter-widgets/jupyterlab-manager"
   ]
  },
  {
   "cell_type": "code",
   "execution_count": 7,
   "id": "a5e80bd0-8eaf-4744-8787-74393818dd95",
   "metadata": {},
   "outputs": [
    {
     "ename": "SyntaxError",
     "evalue": "invalid syntax (3654186813.py, line 1)",
     "output_type": "error",
     "traceback": [
      "\u001b[0;36m  File \u001b[0;32m\"/var/folders/ym/3r2zdm5532dg5b2gh80_6pbr0000gr/T/ipykernel_66953/3654186813.py\"\u001b[0;36m, line \u001b[0;32m1\u001b[0m\n\u001b[0;31m    jupyter labextension list\u001b[0m\n\u001b[0m            ^\u001b[0m\n\u001b[0;31mSyntaxError\u001b[0m\u001b[0;31m:\u001b[0m invalid syntax\n"
     ]
    }
   ],
   "source": [
    "jupyter labextension list"
   ]
  },
  {
   "cell_type": "code",
   "execution_count": 11,
   "id": "396597e2-c5c5-4433-a2a5-9904d7775431",
   "metadata": {},
   "outputs": [
    {
     "ename": "TclError",
     "evalue": "unknown option \"-label\"",
     "output_type": "error",
     "traceback": [
      "\u001b[0;31m---------------------------------------------------------------------------\u001b[0m",
      "\u001b[0;31mTclError\u001b[0m                                  Traceback (most recent call last)",
      "\u001b[0;32m/var/folders/ym/3r2zdm5532dg5b2gh80_6pbr0000gr/T/ipykernel_66953/3599815683.py\u001b[0m in \u001b[0;36m<module>\u001b[0;34m\u001b[0m\n\u001b[1;32m     49\u001b[0m \u001b[0mframe\u001b[0m\u001b[0;34m.\u001b[0m\u001b[0mgrid\u001b[0m\u001b[0;34m(\u001b[0m\u001b[0mrow\u001b[0m\u001b[0;34m=\u001b[0m\u001b[0;36m0\u001b[0m\u001b[0;34m,\u001b[0m \u001b[0mcolumn\u001b[0m\u001b[0;34m=\u001b[0m\u001b[0;36m0\u001b[0m\u001b[0;34m,\u001b[0m \u001b[0msticky\u001b[0m\u001b[0;34m=\u001b[0m\u001b[0;34m(\u001b[0m\u001b[0mtk\u001b[0m\u001b[0;34m.\u001b[0m\u001b[0mW\u001b[0m\u001b[0;34m,\u001b[0m \u001b[0mtk\u001b[0m\u001b[0;34m.\u001b[0m\u001b[0mE\u001b[0m\u001b[0;34m,\u001b[0m \u001b[0mtk\u001b[0m\u001b[0;34m.\u001b[0m\u001b[0mN\u001b[0m\u001b[0;34m,\u001b[0m \u001b[0mtk\u001b[0m\u001b[0;34m.\u001b[0m\u001b[0mS\u001b[0m\u001b[0;34m)\u001b[0m\u001b[0;34m)\u001b[0m\u001b[0;34m\u001b[0m\u001b[0;34m\u001b[0m\u001b[0m\n\u001b[1;32m     50\u001b[0m \u001b[0;34m\u001b[0m\u001b[0m\n\u001b[0;32m---> 51\u001b[0;31m \u001b[0mmean_diff_slider\u001b[0m \u001b[0;34m=\u001b[0m \u001b[0mttk\u001b[0m\u001b[0;34m.\u001b[0m\u001b[0mScale\u001b[0m\u001b[0;34m(\u001b[0m\u001b[0mframe\u001b[0m\u001b[0;34m,\u001b[0m \u001b[0mfrom_\u001b[0m\u001b[0;34m=\u001b[0m\u001b[0;36m0\u001b[0m\u001b[0;34m,\u001b[0m \u001b[0mto\u001b[0m\u001b[0;34m=\u001b[0m\u001b[0;36m5\u001b[0m\u001b[0;34m,\u001b[0m \u001b[0morient\u001b[0m\u001b[0;34m=\u001b[0m\u001b[0mtk\u001b[0m\u001b[0;34m.\u001b[0m\u001b[0mHORIZONTAL\u001b[0m\u001b[0;34m,\u001b[0m \u001b[0mlabel\u001b[0m\u001b[0;34m=\u001b[0m\u001b[0;34m\"Mean Diff:\"\u001b[0m\u001b[0;34m)\u001b[0m\u001b[0;34m\u001b[0m\u001b[0;34m\u001b[0m\u001b[0m\n\u001b[0m\u001b[1;32m     52\u001b[0m \u001b[0mmean_diff_slider\u001b[0m\u001b[0;34m.\u001b[0m\u001b[0mset\u001b[0m\u001b[0;34m(\u001b[0m\u001b[0;36m2\u001b[0m\u001b[0;34m)\u001b[0m\u001b[0;34m\u001b[0m\u001b[0;34m\u001b[0m\u001b[0m\n\u001b[1;32m     53\u001b[0m \u001b[0mmean_diff_slider\u001b[0m\u001b[0;34m.\u001b[0m\u001b[0mgrid\u001b[0m\u001b[0;34m(\u001b[0m\u001b[0mrow\u001b[0m\u001b[0;34m=\u001b[0m\u001b[0;36m0\u001b[0m\u001b[0;34m,\u001b[0m \u001b[0mcolumn\u001b[0m\u001b[0;34m=\u001b[0m\u001b[0;36m0\u001b[0m\u001b[0;34m,\u001b[0m \u001b[0msticky\u001b[0m\u001b[0;34m=\u001b[0m\u001b[0;34m(\u001b[0m\u001b[0mtk\u001b[0m\u001b[0;34m.\u001b[0m\u001b[0mW\u001b[0m\u001b[0;34m,\u001b[0m \u001b[0mtk\u001b[0m\u001b[0;34m.\u001b[0m\u001b[0mE\u001b[0m\u001b[0;34m)\u001b[0m\u001b[0;34m,\u001b[0m \u001b[0mpadx\u001b[0m\u001b[0;34m=\u001b[0m\u001b[0;36m10\u001b[0m\u001b[0;34m,\u001b[0m \u001b[0mpady\u001b[0m\u001b[0;34m=\u001b[0m\u001b[0;36m5\u001b[0m\u001b[0;34m)\u001b[0m\u001b[0;34m\u001b[0m\u001b[0;34m\u001b[0m\u001b[0m\n",
      "\u001b[0;32m~/opt/anaconda3/lib/python3.9/tkinter/ttk.py\u001b[0m in \u001b[0;36m__init__\u001b[0;34m(self, master, **kw)\u001b[0m\n\u001b[1;32m   1072\u001b[0m             \u001b[0mcommand\u001b[0m\u001b[0;34m,\u001b[0m \u001b[0;32mfrom\u001b[0m\u001b[0;34m,\u001b[0m \u001b[0mlength\u001b[0m\u001b[0;34m,\u001b[0m \u001b[0morient\u001b[0m\u001b[0;34m,\u001b[0m \u001b[0mto\u001b[0m\u001b[0;34m,\u001b[0m \u001b[0mvalue\u001b[0m\u001b[0;34m,\u001b[0m \u001b[0mvariable\u001b[0m\u001b[0;34m\u001b[0m\u001b[0;34m\u001b[0m\u001b[0m\n\u001b[1;32m   1073\u001b[0m         \"\"\"\n\u001b[0;32m-> 1074\u001b[0;31m         \u001b[0mWidget\u001b[0m\u001b[0;34m.\u001b[0m\u001b[0m__init__\u001b[0m\u001b[0;34m(\u001b[0m\u001b[0mself\u001b[0m\u001b[0;34m,\u001b[0m \u001b[0mmaster\u001b[0m\u001b[0;34m,\u001b[0m \u001b[0;34m\"ttk::scale\"\u001b[0m\u001b[0;34m,\u001b[0m \u001b[0mkw\u001b[0m\u001b[0;34m)\u001b[0m\u001b[0;34m\u001b[0m\u001b[0;34m\u001b[0m\u001b[0m\n\u001b[0m\u001b[1;32m   1075\u001b[0m \u001b[0;34m\u001b[0m\u001b[0m\n\u001b[1;32m   1076\u001b[0m \u001b[0;34m\u001b[0m\u001b[0m\n",
      "\u001b[0;32m~/opt/anaconda3/lib/python3.9/tkinter/ttk.py\u001b[0m in \u001b[0;36m__init__\u001b[0;34m(self, master, widgetname, kw)\u001b[0m\n\u001b[1;32m    550\u001b[0m             \u001b[0;31m# Load tile now, if needed\u001b[0m\u001b[0;34m\u001b[0m\u001b[0;34m\u001b[0m\u001b[0m\n\u001b[1;32m    551\u001b[0m             \u001b[0m_load_tile\u001b[0m\u001b[0;34m(\u001b[0m\u001b[0mmaster\u001b[0m\u001b[0;34m)\u001b[0m\u001b[0;34m\u001b[0m\u001b[0;34m\u001b[0m\u001b[0m\n\u001b[0;32m--> 552\u001b[0;31m         \u001b[0mtkinter\u001b[0m\u001b[0;34m.\u001b[0m\u001b[0mWidget\u001b[0m\u001b[0;34m.\u001b[0m\u001b[0m__init__\u001b[0m\u001b[0;34m(\u001b[0m\u001b[0mself\u001b[0m\u001b[0;34m,\u001b[0m \u001b[0mmaster\u001b[0m\u001b[0;34m,\u001b[0m \u001b[0mwidgetname\u001b[0m\u001b[0;34m,\u001b[0m \u001b[0mkw\u001b[0m\u001b[0;34m=\u001b[0m\u001b[0mkw\u001b[0m\u001b[0;34m)\u001b[0m\u001b[0;34m\u001b[0m\u001b[0;34m\u001b[0m\u001b[0m\n\u001b[0m\u001b[1;32m    553\u001b[0m \u001b[0;34m\u001b[0m\u001b[0m\n\u001b[1;32m    554\u001b[0m \u001b[0;34m\u001b[0m\u001b[0m\n",
      "\u001b[0;32m~/opt/anaconda3/lib/python3.9/tkinter/__init__.py\u001b[0m in \u001b[0;36m__init__\u001b[0;34m(self, master, widgetName, cnf, kw, extra)\u001b[0m\n\u001b[1;32m   2570\u001b[0m         \u001b[0;32mfor\u001b[0m \u001b[0mk\u001b[0m\u001b[0;34m,\u001b[0m \u001b[0mv\u001b[0m \u001b[0;32min\u001b[0m \u001b[0mclasses\u001b[0m\u001b[0;34m:\u001b[0m\u001b[0;34m\u001b[0m\u001b[0;34m\u001b[0m\u001b[0m\n\u001b[1;32m   2571\u001b[0m             \u001b[0;32mdel\u001b[0m \u001b[0mcnf\u001b[0m\u001b[0;34m[\u001b[0m\u001b[0mk\u001b[0m\u001b[0;34m]\u001b[0m\u001b[0;34m\u001b[0m\u001b[0;34m\u001b[0m\u001b[0m\n\u001b[0;32m-> 2572\u001b[0;31m         self.tk.call(\n\u001b[0m\u001b[1;32m   2573\u001b[0m             (widgetName, self._w) + extra + self._options(cnf))\n\u001b[1;32m   2574\u001b[0m         \u001b[0;32mfor\u001b[0m \u001b[0mk\u001b[0m\u001b[0;34m,\u001b[0m \u001b[0mv\u001b[0m \u001b[0;32min\u001b[0m \u001b[0mclasses\u001b[0m\u001b[0;34m:\u001b[0m\u001b[0;34m\u001b[0m\u001b[0;34m\u001b[0m\u001b[0m\n",
      "\u001b[0;31mTclError\u001b[0m: unknown option \"-label\""
     ]
    }
   ],
   "source": [
    "import numpy as np\n",
    "import matplotlib.pyplot as plt\n",
    "from scipy.stats import ttest_ind\n",
    "import tkinter as tk\n",
    "from tkinter import ttk\n",
    "\n",
    "def generate_data(mean_diff=0, within_group_var=1, n=100):\n",
    "    \"\"\"\n",
    "    Generate two groups of data with specified mean difference and within-group variance.\n",
    "\n",
    "    Parameters:\n",
    "    - mean_diff: Difference in means between the two groups.\n",
    "    - within_group_var: Variance within each group.\n",
    "    - n: Number of data points in each group.\n",
    "\n",
    "    Returns:\n",
    "    - group1, group2: Two numpy arrays containing the data for the two groups.\n",
    "    \"\"\"\n",
    "    group1 = np.random.normal(0, np.sqrt(within_group_var), n)\n",
    "    group2 = np.random.normal(mean_diff, np.sqrt(within_group_var), n)\n",
    "    return group1, group2\n",
    "def plot_and_compute_p(mean_diff, within_group_var, n):\n",
    "    # Generate data\n",
    "    group1, group2 = generate_data(mean_diff, within_group_var, n)\n",
    "\n",
    "    # Perform t-test\n",
    "    _, p_value = ttest_ind(group1, group2)\n",
    "\n",
    "    # Plot\n",
    "    plt.figure(figsize=(10, 6))\n",
    "    plt.hist(group1, bins=30, alpha=0.5, label='Group 1')\n",
    "    plt.hist(group2, bins=30, alpha=0.5, label='Group 2')\n",
    "    plt.legend()\n",
    "    plt.title(f'Distribution of Two Groups with Mean Difference of {mean_diff} and p-value: {p_value:.2e}')\n",
    "    plt.xlabel('Value')\n",
    "    plt.ylabel('Frequency')\n",
    "    plt.show()\n",
    "\n",
    "def on_button_click():\n",
    "    mean_diff = mean_diff_slider.get()\n",
    "    within_group_var = within_group_var_slider.get()\n",
    "    n = sample_size_slider.get()\n",
    "    plot_and_compute_p(mean_diff, within_group_var, n)\n",
    "\n",
    "root = tk.Tk()\n",
    "root.title(\"P-Value Demonstration\")\n",
    "\n",
    "frame = ttk.Frame(root, padding=\"10\")\n",
    "frame.grid(row=0, column=0, sticky=(tk.W, tk.E, tk.N, tk.S))\n",
    "\n",
    "mean_diff_slider = ttk.Scale(frame, from_=0, to=5, orient=tk.HORIZONTAL, label=\"Mean Diff:\")\n",
    "mean_diff_slider.set(2)\n",
    "mean_diff_slider.grid(row=0, column=0, sticky=(tk.W, tk.E), padx=10, pady=5)\n",
    "\n",
    "within_group_var_slider = ttk.Scale(frame, from_=0.1, to=5, orient=tk.HORIZONTAL, label=\"Var:\")\n",
    "within_group_var_slider.set(1)\n",
    "within_group_var_slider.grid(row=1, column=0, sticky=(tk.W, tk.E), padx=10, pady=5)\n",
    "\n",
    "sample_size_slider = ttk.Scale(frame, from_=10, to=500, orient=tk.HORIZONTAL, label=\"Sample Size:\")\n",
    "sample_size_slider.set(100)\n",
    "sample_size_slider.grid(row=2, column=0, sticky=(tk.W, tk.E), padx=10, pady=5)\n",
    "\n",
    "btn = ttk.Button(frame, text=\"Generate Plot\", command=on_button_click)\n",
    "btn.grid(row=3, column=0, pady=20)\n",
    "\n",
    "root.mainloop()\n"
   ]
  },
  {
   "cell_type": "code",
   "execution_count": null,
   "id": "a8c1df08-6fb6-4cfd-8cfb-629e66e62edd",
   "metadata": {},
   "outputs": [],
   "source": []
  }
 ],
 "metadata": {
  "kernelspec": {
   "display_name": "Python 3 (ipykernel)",
   "language": "python",
   "name": "python3"
  },
  "language_info": {
   "codemirror_mode": {
    "name": "ipython",
    "version": 3
   },
   "file_extension": ".py",
   "mimetype": "text/x-python",
   "name": "python",
   "nbconvert_exporter": "python",
   "pygments_lexer": "ipython3",
   "version": "3.9.13"
  }
 },
 "nbformat": 4,
 "nbformat_minor": 5
}
